{
 "cells": [
  {
   "cell_type": "markdown",
   "metadata": {},
   "source": [
    "# Bollinger Bands Strategy with Threshold Crossover\n",
    "\n",
    "## Concept\n",
    "\n",
    "From previous experiments, I cam mark peaks and dips(Sell and Buy) points with\n",
    "a simple rolling window comparison. For a `X` sized window, if the current point\n",
    "is largest in the `2X` window, it is a peak, and if it is the smallest, it is a dip.\n",
    "\n",
    "though this does not give the perfectly mapped out time to buy and sell, it does\n",
    "give a fair descision point.\n",
    "\n",
    "Now considering that such points can any where across time, when it comes to\n",
    "intraday scaling, the data presents a fairly mathematical opportunity.\n",
    "\n",
    "## Strategy\n",
    "\n",
    "Using Bollinger Bands of window size `W`, and using them to scale the current\n",
    "close price in time, we can position the current price in a scaled down range\n",
    "and fairly a stationary time series range. Since Bollinger Bands is a rolling\n",
    "standard deviation of magnitude `S`, therefore, the points in the close series\n",
    "becomes relative to the window.\n",
    "\n",
    "After marking such points, the hypothesis is that the points marked as Peaks and\n",
    "Dips will have some level of distinction in the scaled down series.\n"
   ]
  },
  {
   "cell_type": "code",
   "execution_count": null,
   "metadata": {},
   "outputs": [],
   "source": []
  }
 ],
 "metadata": {
  "language_info": {
   "name": "python"
  }
 },
 "nbformat": 4,
 "nbformat_minor": 2
}
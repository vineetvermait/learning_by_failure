{
 "cells": [
  {
   "cell_type": "markdown",
   "metadata": {},
   "source": [
    "# Temporal Vectors\n",
    "\n",
    "## Abstract\n",
    "\n",
    "In this notebook, I will conceptualize Temporal Vectors. Temporal vectors are a way to encode the temporal information of a time series. They are used to encode movement pattern of a sequence. This information is very useful in time series forecasting tasks. I will show how to use temporal vectors in a simple model to forecast the number of passengers in a time series.\n"
   ]
  },
  {
   "cell_type": "code",
   "execution_count": null,
   "metadata": {},
   "outputs": [],
   "source": []
  }
 ],
 "metadata": {
  "language_info": {
   "name": "python"
  }
 },
 "nbformat": 4,
 "nbformat_minor": 2
}
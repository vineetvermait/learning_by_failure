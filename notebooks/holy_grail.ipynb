{
 "cells": [
  {
   "cell_type": "markdown",
   "metadata": {},
   "source": [
    "# [Not Started] Holy grail: Trading Epitome\n"
   ]
  },
  {
   "cell_type": "markdown",
   "metadata": {},
   "source": [
    "[alternatives to backtesting.py](https://github.com/kernc/backtesting.py/blob/master/doc/alternatives.md)\n"
   ]
  },
  {
   "cell_type": "code",
   "execution_count": 1,
   "metadata": {},
   "outputs": [],
   "source": [
    "from sqlalchemy import create_engine\n",
    "import pandas as pd\n",
    "from glob import glob\n",
    "from tqdm.notebook import tqdm\n",
    "BASE_PATH = '/workspace/nifty/{stock}/{year}{month}*.csv'\n",
    "OHLC_COLUMNS = ['open', 'high', 'low', 'close']\n",
    "\n",
    "engine = create_engine('sqlite:////workspace/learning_by_failure/nifty.db')\n",
    "\n",
    "\n",
    "def load(\n",
    "        stock: str,\n",
    "        year: str = '*',\n",
    "        month: str = '*'\n",
    ") -> pd.DataFrame:\n",
    "    path = BASE_PATH.format(stock=stock, year=year, month=month)\n",
    "    df = pd.concat(\n",
    "        list(\n",
    "            map(\n",
    "                lambda x: pd.read_csv(x, parse_dates=True),\n",
    "                tqdm(\n",
    "                    glob(path),\n",
    "                    leave=False,\n",
    "                    desc=f'Loading data for {stock}'\n",
    "                )\n",
    "            )\n",
    "        )\n",
    "    )\n",
    "    df.datetime = pd.to_datetime(df.datetime)\n",
    "    df.set_index('datetime', inplace=True)\n",
    "    return df[OHLC_COLUMNS]\n",
    "\n",
    "\n",
    "stocks = list(map(lambda x: x.split(\n",
    "    '/')[-1], sorted(glob('/workspace/nifty/*'))))"
   ]
  },
  {
   "cell_type": "code",
   "execution_count": 2,
   "metadata": {},
   "outputs": [
    {
     "data": {
      "text/plain": [
       "'ADAENT'"
      ]
     },
     "execution_count": 2,
     "metadata": {},
     "output_type": "execute_result"
    }
   ],
   "source": [
    "stocks[0]"
   ]
  },
  {
   "cell_type": "code",
   "execution_count": 3,
   "metadata": {},
   "outputs": [
    {
     "data": {
      "application/vnd.jupyter.widget-view+json": {
       "model_id": "34065dfcaf5f43d886eee6592c354faf",
       "version_major": 2,
       "version_minor": 0
      },
      "text/plain": [
       "  0%|          | 0/53 [00:00<?, ?it/s]"
      ]
     },
     "metadata": {},
     "output_type": "display_data"
    },
    {
     "data": {
      "application/vnd.jupyter.widget-view+json": {
       "model_id": "d315d6d8660a49488ac5610a20dd68db",
       "version_major": 2,
       "version_minor": 0
      },
      "text/plain": [
       "Loading data for ADAENT:   0%|          | 0/1068 [00:00<?, ?it/s]"
      ]
     },
     "metadata": {},
     "output_type": "display_data"
    },
    {
     "data": {
      "application/vnd.jupyter.widget-view+json": {
       "model_id": "8be99011059a480985262d7d4d93e84e",
       "version_major": 2,
       "version_minor": 0
      },
      "text/plain": [
       "Loading data for ADAPOR:   0%|          | 0/1068 [00:00<?, ?it/s]"
      ]
     },
     "metadata": {},
     "output_type": "display_data"
    },
    {
     "data": {
      "application/vnd.jupyter.widget-view+json": {
       "model_id": "8a7e8f556fd4414cb0d4671e05f0feeb",
       "version_major": 2,
       "version_minor": 0
      },
      "text/plain": [
       "Loading data for APOHOS:   0%|          | 0/1068 [00:00<?, ?it/s]"
      ]
     },
     "metadata": {},
     "output_type": "display_data"
    },
    {
     "data": {
      "application/vnd.jupyter.widget-view+json": {
       "model_id": "eafa640ccb0248649a4d922be04d12b5",
       "version_major": 2,
       "version_minor": 0
      },
      "text/plain": [
       "Loading data for ASIPAI:   0%|          | 0/1068 [00:00<?, ?it/s]"
      ]
     },
     "metadata": {},
     "output_type": "display_data"
    },
    {
     "data": {
      "application/vnd.jupyter.widget-view+json": {
       "model_id": "4fc54e903fe24600bf897cea06b54f44",
       "version_major": 2,
       "version_minor": 0
      },
      "text/plain": [
       "Loading data for AXIBAN:   0%|          | 0/1067 [00:00<?, ?it/s]"
      ]
     },
     "metadata": {},
     "output_type": "display_data"
    },
    {
     "data": {
      "application/vnd.jupyter.widget-view+json": {
       "model_id": "3aa11b058d06441baf7c4276d877c5f8",
       "version_major": 2,
       "version_minor": 0
      },
      "text/plain": [
       "Loading data for BAAUTO:   0%|          | 0/1067 [00:00<?, ?it/s]"
      ]
     },
     "metadata": {},
     "output_type": "display_data"
    },
    {
     "data": {
      "application/vnd.jupyter.widget-view+json": {
       "model_id": "34d4d5a912614ba49f359e7b4ca11847",
       "version_major": 2,
       "version_minor": 0
      },
      "text/plain": [
       "Loading data for BAFINS:   0%|          | 0/1066 [00:00<?, ?it/s]"
      ]
     },
     "metadata": {},
     "output_type": "display_data"
    },
    {
     "data": {
      "application/vnd.jupyter.widget-view+json": {
       "model_id": "613d8d98d8c04b689e11f751b7fb8daa",
       "version_major": 2,
       "version_minor": 0
      },
      "text/plain": [
       "Loading data for BAJFI:   0%|          | 0/1066 [00:00<?, ?it/s]"
      ]
     },
     "metadata": {},
     "output_type": "display_data"
    },
    {
     "data": {
      "application/vnd.jupyter.widget-view+json": {
       "model_id": "2ed7ec55ef004dddbc82f77ba9e72c94",
       "version_major": 2,
       "version_minor": 0
      },
      "text/plain": [
       "Loading data for BHAAIR:   0%|          | 0/1067 [00:00<?, ?it/s]"
      ]
     },
     "metadata": {},
     "output_type": "display_data"
    },
    {
     "data": {
      "application/vnd.jupyter.widget-view+json": {
       "model_id": "efd8f52cb4cf48b48b21b7c3c46fb9c8",
       "version_major": 2,
       "version_minor": 0
      },
      "text/plain": [
       "Loading data for BHAPET:   0%|          | 0/1067 [00:00<?, ?it/s]"
      ]
     },
     "metadata": {},
     "output_type": "display_data"
    },
    {
     "data": {
      "application/vnd.jupyter.widget-view+json": {
       "model_id": "6a964f60e2144ef08a6e2a2e8cbe5563",
       "version_major": 2,
       "version_minor": 0
      },
      "text/plain": [
       "Loading data for BRIIND:   0%|          | 0/1066 [00:00<?, ?it/s]"
      ]
     },
     "metadata": {},
     "output_type": "display_data"
    },
    {
     "data": {
      "application/vnd.jupyter.widget-view+json": {
       "model_id": "cc0bf2bd98a7459fb37ab5811221c154",
       "version_major": 2,
       "version_minor": 0
      },
      "text/plain": [
       "Loading data for BRIND2:   0%|          | 0/304 [00:00<?, ?it/s]"
      ]
     },
     "metadata": {},
     "output_type": "display_data"
    },
    {
     "data": {
      "application/vnd.jupyter.widget-view+json": {
       "model_id": "88c473cb2d054c38928e3b9985faf553",
       "version_major": 2,
       "version_minor": 0
      },
      "text/plain": [
       "Loading data for CIPLA:   0%|          | 0/1067 [00:00<?, ?it/s]"
      ]
     },
     "metadata": {},
     "output_type": "display_data"
    },
    {
     "data": {
      "application/vnd.jupyter.widget-view+json": {
       "model_id": "3934c9c464f2492c8fd4e6a8ea0b5f97",
       "version_major": 2,
       "version_minor": 0
      },
      "text/plain": [
       "Loading data for COALIN:   0%|          | 0/1067 [00:00<?, ?it/s]"
      ]
     },
     "metadata": {},
     "output_type": "display_data"
    },
    {
     "data": {
      "application/vnd.jupyter.widget-view+json": {
       "model_id": "cb9c6f803a5249b0aeb769f36346dd54",
       "version_major": 2,
       "version_minor": 0
      },
      "text/plain": [
       "Loading data for DIVLAB:   0%|          | 0/1066 [00:00<?, ?it/s]"
      ]
     },
     "metadata": {},
     "output_type": "display_data"
    },
    {
     "data": {
      "application/vnd.jupyter.widget-view+json": {
       "model_id": "6460af21cf5f41c0a32d6b1424fdadd1",
       "version_major": 2,
       "version_minor": 0
      },
      "text/plain": [
       "Loading data for DRREDD:   0%|          | 0/1067 [00:00<?, ?it/s]"
      ]
     },
     "metadata": {},
     "output_type": "display_data"
    },
    {
     "data": {
      "application/vnd.jupyter.widget-view+json": {
       "model_id": "732f87ee191946d09957e6902878ba1e",
       "version_major": 2,
       "version_minor": 0
      },
      "text/plain": [
       "Loading data for EICMOT:   0%|          | 0/1067 [00:00<?, ?it/s]"
      ]
     },
     "metadata": {},
     "output_type": "display_data"
    },
    {
     "data": {
      "application/vnd.jupyter.widget-view+json": {
       "model_id": "82011272cbe14be8aefc593f7e218f05",
       "version_major": 2,
       "version_minor": 0
      },
      "text/plain": [
       "Loading data for GRASIM:   0%|          | 0/1067 [00:00<?, ?it/s]"
      ]
     },
     "metadata": {},
     "output_type": "display_data"
    },
    {
     "data": {
      "application/vnd.jupyter.widget-view+json": {
       "model_id": "c23249d707f041c886a45427d224baa2",
       "version_major": 2,
       "version_minor": 0
      },
      "text/plain": [
       "Loading data for HCLTEC:   0%|          | 0/1067 [00:00<?, ?it/s]"
      ]
     },
     "metadata": {},
     "output_type": "display_data"
    },
    {
     "data": {
      "application/vnd.jupyter.widget-view+json": {
       "model_id": "fa26b68cf09d4f68bb1e48a3a8ad02a5",
       "version_major": 2,
       "version_minor": 0
      },
      "text/plain": [
       "Loading data for HDFBAN:   0%|          | 0/1067 [00:00<?, ?it/s]"
      ]
     },
     "metadata": {},
     "output_type": "display_data"
    },
    {
     "data": {
      "application/vnd.jupyter.widget-view+json": {
       "model_id": "c03e353c27c94de0b45bd20ffc04329a",
       "version_major": 2,
       "version_minor": 0
      },
      "text/plain": [
       "Loading data for HDFSTA:   0%|          | 0/1067 [00:00<?, ?it/s]"
      ]
     },
     "metadata": {},
     "output_type": "display_data"
    },
    {
     "data": {
      "application/vnd.jupyter.widget-view+json": {
       "model_id": "ded9a3c649bd4608a5e7df9c423c9c33",
       "version_major": 2,
       "version_minor": 0
      },
      "text/plain": [
       "Loading data for HDFWA2:   0%|          | 0/880 [00:00<?, ?it/s]"
      ]
     },
     "metadata": {},
     "output_type": "display_data"
    },
    {
     "data": {
      "application/vnd.jupyter.widget-view+json": {
       "model_id": "d72383d99a604c2790f5988a63a8f993",
       "version_major": 2,
       "version_minor": 0
      },
      "text/plain": [
       "Loading data for HERHON:   0%|          | 0/1067 [00:00<?, ?it/s]"
      ]
     },
     "metadata": {},
     "output_type": "display_data"
    },
    {
     "data": {
      "application/vnd.jupyter.widget-view+json": {
       "model_id": "389047306d1f478f9075ea4e64b687e6",
       "version_major": 2,
       "version_minor": 0
      },
      "text/plain": [
       "Loading data for HINDAL:   0%|          | 0/1067 [00:00<?, ?it/s]"
      ]
     },
     "metadata": {},
     "output_type": "display_data"
    },
    {
     "data": {
      "application/vnd.jupyter.widget-view+json": {
       "model_id": "f80034f1f612473bb81e768407f1f59b",
       "version_major": 2,
       "version_minor": 0
      },
      "text/plain": [
       "Loading data for HINLEV:   0%|          | 0/1067 [00:00<?, ?it/s]"
      ]
     },
     "metadata": {},
     "output_type": "display_data"
    },
    {
     "data": {
      "application/vnd.jupyter.widget-view+json": {
       "model_id": "9298381f8dd74e8b80295417a35c9963",
       "version_major": 2,
       "version_minor": 0
      },
      "text/plain": [
       "Loading data for ICIBAN:   0%|          | 0/1067 [00:00<?, ?it/s]"
      ]
     },
     "metadata": {},
     "output_type": "display_data"
    },
    {
     "data": {
      "application/vnd.jupyter.widget-view+json": {
       "model_id": "e515d24fedee4ac7b9fb4c7f1143163b",
       "version_major": 2,
       "version_minor": 0
      },
      "text/plain": [
       "Loading data for INDBA:   0%|          | 0/1067 [00:00<?, ?it/s]"
      ]
     },
     "metadata": {},
     "output_type": "display_data"
    },
    {
     "data": {
      "application/vnd.jupyter.widget-view+json": {
       "model_id": "e5132cefd3604c18990fc0e4366cec44",
       "version_major": 2,
       "version_minor": 0
      },
      "text/plain": [
       "Loading data for INFTEC:   0%|          | 0/1067 [00:00<?, ?it/s]"
      ]
     },
     "metadata": {},
     "output_type": "display_data"
    },
    {
     "data": {
      "application/vnd.jupyter.widget-view+json": {
       "model_id": "23edeaddbb484fd686b3a547ac225e5d",
       "version_major": 2,
       "version_minor": 0
      },
      "text/plain": [
       "Loading data for ITC:   0%|          | 0/1066 [00:00<?, ?it/s]"
      ]
     },
     "metadata": {},
     "output_type": "display_data"
    },
    {
     "data": {
      "application/vnd.jupyter.widget-view+json": {
       "model_id": "8ee9fd29dbc143eda612815a08f869bd",
       "version_major": 2,
       "version_minor": 0
      },
      "text/plain": [
       "Loading data for JSWSTE:   0%|          | 0/1067 [00:00<?, ?it/s]"
      ]
     },
     "metadata": {},
     "output_type": "display_data"
    },
    {
     "data": {
      "application/vnd.jupyter.widget-view+json": {
       "model_id": "64f9e3ea3bd54d6eb24c810841c1d51a",
       "version_major": 2,
       "version_minor": 0
      },
      "text/plain": [
       "Loading data for KOTMAH:   0%|          | 0/1067 [00:00<?, ?it/s]"
      ]
     },
     "metadata": {},
     "output_type": "display_data"
    },
    {
     "data": {
      "application/vnd.jupyter.widget-view+json": {
       "model_id": "2c2c6179f04b4703958c9039c814bcb8",
       "version_major": 2,
       "version_minor": 0
      },
      "text/plain": [
       "Loading data for LARTOU:   0%|          | 0/1067 [00:00<?, ?it/s]"
      ]
     },
     "metadata": {},
     "output_type": "display_data"
    },
    {
     "data": {
      "application/vnd.jupyter.widget-view+json": {
       "model_id": "ff8b784d6b6340848a87384a0b17b7a5",
       "version_major": 2,
       "version_minor": 0
      },
      "text/plain": [
       "Loading data for LTINFO:   0%|          | 0/1067 [00:00<?, ?it/s]"
      ]
     },
     "metadata": {},
     "output_type": "display_data"
    },
    {
     "data": {
      "application/vnd.jupyter.widget-view+json": {
       "model_id": "b9b4ccaf75ed4ecc839e976e1f00aa42",
       "version_major": 2,
       "version_minor": 0
      },
      "text/plain": [
       "Loading data for MAHMAH:   0%|          | 0/1067 [00:00<?, ?it/s]"
      ]
     },
     "metadata": {},
     "output_type": "display_data"
    },
    {
     "data": {
      "application/vnd.jupyter.widget-view+json": {
       "model_id": "b5226b94546946f8a968d237da293311",
       "version_major": 2,
       "version_minor": 0
      },
      "text/plain": [
       "Loading data for MARUTI:   0%|          | 0/1066 [00:00<?, ?it/s]"
      ]
     },
     "metadata": {},
     "output_type": "display_data"
    },
    {
     "data": {
      "application/vnd.jupyter.widget-view+json": {
       "model_id": "bb32b8feb8ee4924a398fac96048176b",
       "version_major": 2,
       "version_minor": 0
      },
      "text/plain": [
       "Loading data for NESIND:   0%|          | 0/1067 [00:00<?, ?it/s]"
      ]
     },
     "metadata": {},
     "output_type": "display_data"
    },
    {
     "data": {
      "application/vnd.jupyter.widget-view+json": {
       "model_id": "0be0dcd8ebc9497a9217e6bbb5607a6f",
       "version_major": 2,
       "version_minor": 0
      },
      "text/plain": [
       "Loading data for NIFTY:   0%|          | 0/2267 [00:00<?, ?it/s]"
      ]
     },
     "metadata": {},
     "output_type": "display_data"
    },
    {
     "data": {
      "application/vnd.jupyter.widget-view+json": {
       "model_id": "e415025070f84b6eaeb429cceb572030",
       "version_major": 2,
       "version_minor": 0
      },
      "text/plain": [
       "Loading data for NTPC:   0%|          | 0/1067 [00:00<?, ?it/s]"
      ]
     },
     "metadata": {},
     "output_type": "display_data"
    },
    {
     "data": {
      "application/vnd.jupyter.widget-view+json": {
       "model_id": "3e7ef1e9978f4e3b906cedff2a15bc30",
       "version_major": 2,
       "version_minor": 0
      },
      "text/plain": [
       "Loading data for ONGC:   0%|          | 0/1067 [00:00<?, ?it/s]"
      ]
     },
     "metadata": {},
     "output_type": "display_data"
    },
    {
     "data": {
      "application/vnd.jupyter.widget-view+json": {
       "model_id": "31dd92876da248108d9dfb0da28568a4",
       "version_major": 2,
       "version_minor": 0
      },
      "text/plain": [
       "Loading data for POWGRI:   0%|          | 0/1067 [00:00<?, ?it/s]"
      ]
     },
     "metadata": {},
     "output_type": "display_data"
    },
    {
     "data": {
      "application/vnd.jupyter.widget-view+json": {
       "model_id": "3cffb2217a304e5d84a7d5f29d2c5aa8",
       "version_major": 2,
       "version_minor": 0
      },
      "text/plain": [
       "Loading data for RELIND:   0%|          | 0/1067 [00:00<?, ?it/s]"
      ]
     },
     "metadata": {},
     "output_type": "display_data"
    },
    {
     "data": {
      "application/vnd.jupyter.widget-view+json": {
       "model_id": "1f0f4849d8b242119cb404d9c6c19eea",
       "version_major": 2,
       "version_minor": 0
      },
      "text/plain": [
       "Loading data for SBILIF:   0%|          | 0/1067 [00:00<?, ?it/s]"
      ]
     },
     "metadata": {},
     "output_type": "display_data"
    },
    {
     "data": {
      "application/vnd.jupyter.widget-view+json": {
       "model_id": "9e307893223347a2b34e6d163fc39b6f",
       "version_major": 2,
       "version_minor": 0
      },
      "text/plain": [
       "Loading data for STABAN:   0%|          | 0/1067 [00:00<?, ?it/s]"
      ]
     },
     "metadata": {},
     "output_type": "display_data"
    },
    {
     "data": {
      "application/vnd.jupyter.widget-view+json": {
       "model_id": "c560c32fc06c497f81f278fa06eedd3d",
       "version_major": 2,
       "version_minor": 0
      },
      "text/plain": [
       "Loading data for SUNPHA:   0%|          | 0/1067 [00:00<?, ?it/s]"
      ]
     },
     "metadata": {},
     "output_type": "display_data"
    },
    {
     "data": {
      "application/vnd.jupyter.widget-view+json": {
       "model_id": "cc34b5dd6c13473c937ac678b0461df5",
       "version_major": 2,
       "version_minor": 0
      },
      "text/plain": [
       "Loading data for TATGLO:   0%|          | 0/1067 [00:00<?, ?it/s]"
      ]
     },
     "metadata": {},
     "output_type": "display_data"
    },
    {
     "data": {
      "application/vnd.jupyter.widget-view+json": {
       "model_id": "e8c615b01a17489599d765f2186e1d8e",
       "version_major": 2,
       "version_minor": 0
      },
      "text/plain": [
       "Loading data for TATMOT:   0%|          | 0/1067 [00:00<?, ?it/s]"
      ]
     },
     "metadata": {},
     "output_type": "display_data"
    },
    {
     "data": {
      "application/vnd.jupyter.widget-view+json": {
       "model_id": "06299e371e9a4d9c9b322dc3cfb4d12c",
       "version_major": 2,
       "version_minor": 0
      },
      "text/plain": [
       "Loading data for TATSTE:   0%|          | 0/1067 [00:00<?, ?it/s]"
      ]
     },
     "metadata": {},
     "output_type": "display_data"
    },
    {
     "data": {
      "application/vnd.jupyter.widget-view+json": {
       "model_id": "78bbb74e53c14b049abd95968c740a62",
       "version_major": 2,
       "version_minor": 0
      },
      "text/plain": [
       "Loading data for TCS:   0%|          | 0/1067 [00:00<?, ?it/s]"
      ]
     },
     "metadata": {},
     "output_type": "display_data"
    },
    {
     "data": {
      "application/vnd.jupyter.widget-view+json": {
       "model_id": "897b74d359534a0e8f4532d4dba29e40",
       "version_major": 2,
       "version_minor": 0
      },
      "text/plain": [
       "Loading data for TECMAH:   0%|          | 0/1067 [00:00<?, ?it/s]"
      ]
     },
     "metadata": {},
     "output_type": "display_data"
    },
    {
     "data": {
      "application/vnd.jupyter.widget-view+json": {
       "model_id": "733cb8bc00e94444bba65891fff7d125",
       "version_major": 2,
       "version_minor": 0
      },
      "text/plain": [
       "Loading data for TITIND:   0%|          | 0/1065 [00:00<?, ?it/s]"
      ]
     },
     "metadata": {},
     "output_type": "display_data"
    },
    {
     "data": {
      "application/vnd.jupyter.widget-view+json": {
       "model_id": "27ff6563bbad4671ac6bc92fabff76bc",
       "version_major": 2,
       "version_minor": 0
      },
      "text/plain": [
       "Loading data for ULTCEM:   0%|          | 0/1064 [00:00<?, ?it/s]"
      ]
     },
     "metadata": {},
     "output_type": "display_data"
    },
    {
     "data": {
      "application/vnd.jupyter.widget-view+json": {
       "model_id": "139dc5f7b5754c3e9e8d2d8e05ed091e",
       "version_major": 2,
       "version_minor": 0
      },
      "text/plain": [
       "Loading data for UNIP:   0%|          | 0/1065 [00:00<?, ?it/s]"
      ]
     },
     "metadata": {},
     "output_type": "display_data"
    },
    {
     "data": {
      "application/vnd.jupyter.widget-view+json": {
       "model_id": "10d781c2e59a431ca38e31478d549f4f",
       "version_major": 2,
       "version_minor": 0
      },
      "text/plain": [
       "Loading data for WIPRO:   0%|          | 0/1065 [00:00<?, ?it/s]"
      ]
     },
     "metadata": {},
     "output_type": "display_data"
    }
   ],
   "source": [
    "all_dfs = []\n",
    "\n",
    "for stock in tqdm(stocks[:]):\n",
    "    df = load(stock)\n",
    "    df['symbol'] = stock\n",
    "    df.to_sql(\n",
    "        'ohlc_data',\n",
    "        engine,\n",
    "        if_exists='append'\n",
    "    )\n",
    "    # all_dfs.append(df)\n",
    "\n",
    "# all_df = pd.concat(all_dfs).reset_index()\n",
    "# .set_index('symbol', append=True)\n",
    "\n",
    "# all_"
   ]
  },
  {
   "cell_type": "code",
   "execution_count": null,
   "metadata": {},
   "outputs": [],
   "source": []
  }
 ],
 "metadata": {
  "kernelspec": {
   "display_name": ".venv",
   "language": "python",
   "name": "python3"
  },
  "language_info": {
   "codemirror_mode": {
    "name": "ipython",
    "version": 3
   },
   "file_extension": ".py",
   "mimetype": "text/x-python",
   "name": "python",
   "nbconvert_exporter": "python",
   "pygments_lexer": "ipython3",
   "version": "3.11.8"
  }
 },
 "nbformat": 4,
 "nbformat_minor": 2
}

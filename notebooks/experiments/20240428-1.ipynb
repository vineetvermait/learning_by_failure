{
 "cells": [
  {
   "cell_type": "markdown",
   "metadata": {},
   "source": [
    "# [Not Started] Relative Scaling | Multi-Feature Temporal Window Vector Clustering | Time Series Classification\n",
    "\n",
    "## Abstract\n",
    "\n",
    "The goal of this notebook is to introduce a new method for time series classification. The method is based on the idea of using a multi-feature temporal window vector clustering algorithm to classify time series data. The algorithm works by first extracting a set of features from the time series data, and then clustering the features into a set of temporal window vectors. The temporal window vectors are then used to classify the time series data. The algorithm should be able to classify time series data as each sample vector represents temporal behavioral encoding, and is able to handle time series data with missing values and noise.\n",
    "\n",
    "## Introduction\n",
    "\n",
    "In Stock Market, the individual candle sticks do not carry much information. When stacked together, they form patterns which are currently used by day traders to predict the future directions of the stock.\n",
    "\n",
    "Say for a `1 minute interval` candle stick data, a small window of say `N=5` sequential candle sticks represents the direction of the stock. This would be the same as a `5 minute interval` candle stick data. But the `5 minute interval` data would have lesser information as the inherent pattern is ignored in re-windowing. An `[Open, Close]` Price Action for both the `1 minute interval` and `5 minute interval` data would be the same, but the inherent pattern would be lost in the 5 minute window. in the `1 minute interval` data, the pattern could have swinged down instantly and then recovered to shoot to the say a Close price of `100`, where as in a similar 5 minute window, the pattern could have been an upward spike and then a downward spike to reach the same Close price of `100`. This kind of behavior could signify a huge directional indication for the next 5-10 minutes.\n",
    "\n",
    "Similarly for other Technical Indicators like `RSI`, `MACD`, `Bollinger Bands`, etc. the `Temporal Vectors` could have multiple behaviors which we may want to capture for features.\n",
    "\n",
    "## Methodology\n"
   ]
  },
  {
   "cell_type": "code",
   "execution_count": null,
   "metadata": {},
   "outputs": [],
   "source": []
  }
 ],
 "metadata": {
  "language_info": {
   "name": "python"
  }
 },
 "nbformat": 4,
 "nbformat_minor": 2
}
